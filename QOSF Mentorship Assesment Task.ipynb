{
 "cells": [
  {
   "source": [
    "# QOSF Mentorship Assessment Task \n",
    "## Submission by Kartikeya Rambhatla\n",
    "\n",
    "## Task 3 \n",
    "\n",
    "Learning by doing: the best way to understand the basics of quantum computation is to implement a quantum circuit simulator. This task is suitable both for people from computer sciences who want to learn about quantum computing, and for people from math/physics who want to exercise coding. It is expected that simulator can perform following:\n",
    "\n",
    "●\tinitialize state <br>\n",
    "●\tread program, and for each gate: <br>\n",
    "●\tcalculate matrix operator <br>\n",
    "●\tapply operator (modify state) <br>\n",
    "●\tperform multi-shot measurement of all qubits using weighted random technique\n",
    "\n",
    "## Bonus requirements\n",
    "\n",
    "●\tParametric gates <br>\n",
    "●\tAllow running variational quantum algorithms <br>\n",
    "\n",
    "\n",
    "## Solution\n",
    "\n",
    "My goal is to create a quantum circuit simulator which can handle the creation of states, application of gates, calculation of matrix operators of the corresponding gates, and perform multi-shot measurement on the circuit."
   ],
   "cell_type": "markdown",
   "metadata": {}
  },
  {
   "cell_type": "code",
   "execution_count": 1,
   "metadata": {},
   "outputs": [],
   "source": [
    "import numpy as np\n",
    "import scipy as sp\n",
    "import scipy.linalg\n",
    "import sympy as smp\n",
    "from sympy import Symbol"
   ]
  },
  {
   "source": [
    "## Introduction\n",
    "\n",
    "The basic |0> and |1> qubit statevectors can be reprsented as the two orthonormal basis vectors (1, 0) and (0, 1) using numpy in the correct dimensions. \n",
    "\n",
    "Simiarly it is useful to have projectors of these basis vectors if we want to perform any kind of tensor operations on these qubits. The projectors can be written as: P0 = |0><0| and P1 = |1><1| for the |0> and |1> basis states respectively. "
   ],
   "cell_type": "markdown",
   "metadata": {}
  },
  {
   "cell_type": "code",
   "execution_count": 2,
   "metadata": {},
   "outputs": [],
   "source": [
    "# Qubit Basis vectors\n",
    "\n",
    "q_0 = np.array([[1], [0]])\n",
    "q_1 = np.array([[0], [1]])\n",
    "\n",
    "# Identity matrix and the projection vectors\n",
    "Identity= np.eye(2)\n",
    "P0 = np.dot(q_0, q_0.T)\n",
    "P1 = np.dot(q_1, q_1.T)\n",
    "\n",
    "# Defining some basic gate operations\n",
    "\n",
    "Hadamard = 1/np.sqrt(2) * np.array([[1, 1],\n",
    "                            [1, -1]])\n",
    "\n",
    "NOT = np.array([[0, 1],\n",
    "              [1, 0]])\n",
    "\n",
    "Y = np.array([[0, -1j],\n",
    "              [-1j, 0]])\n",
    "\n",
    "Z = np.array([[1, 0],\n",
    "              [0, -1]])\n",
    "\n",
    "S = np.array([[1, 0],\n",
    "              [0, 1j]])\n",
    "\n",
    "def U3(theta, phi, lam):\n",
    "    ''' A function that returns U3 matrix operation based on the values of theta, phi and lam(lambda). The arguments are returned as a sympy expression in order to handle strings as inputs and extend support for parametric gates.'''\n",
    "\n",
    "    return np.array([[smp.cos(theta/2), -smp.exp(1j*lam) * smp.sin(theta/2)],\n",
    "            [smp.exp(1j*phi) * smp.sin(theta/2), smp.exp(1j*lam + 1j*phi) * smp.cos(theta/2)]])"
   ]
  },
  {
   "source": [
    "## Multiple qubits and the Tensor product \n",
    "\n",
    "In order to generalize matrix operations to multiple qubits, we can represent the statevectors of multiple qubits as tensor products of the individual qubit states. So the state |101> = |1> ⊗ |0> ⊗ |1>. Since the single qubit is a 2-dimensional vector, so the tensor product of $N$ qubit states creates a statevector of the dimension $2^N$.\n",
    "\n",
    "The tensor product operation for two matrices (let's say M1 and M2) can be performed in numpy using the Kronecker product function np.kron(M1, M2) which will return $M1 ⊗ M2$. In order to extend this to multiple product operation, we can just use a loop."
   ],
   "cell_type": "markdown",
   "metadata": {}
  },
  {
   "cell_type": "code",
   "execution_count": 3,
   "metadata": {},
   "outputs": [],
   "source": [
    "# The multi-tensor product function\n",
    "def multikron(M_list):\n",
    "    temp = np.array([[1]])\n",
    "    for matrix in M_list:\n",
    "        temp = np.kron(temp, matrix)\n",
    "    return temp\n",
    "\n",
    "# A function that convers an integer to its binary form of a given size. Useful for generating state names in the measurement function for returning the corresponding counts. \n",
    "def int_to_bin(num, size):\n",
    "    return format(num, \"b\").zfill(size)"
   ]
  },
  {
   "source": [
    "## Gates \n",
    "\n",
    "In order to perform operations on the qubits, we need to have gates as matrix operators of the proper dimension. We can create a basic $Gate$ class that can be used as a parent for all the other gate types. The gates are initialized using the size of the circuit in order to calculate the proper dimensions, the control/target qubits and the corresponding unitary to create the necessary matrix operator.\n",
    "\n",
    "The $UGate$ class creates a unitary matrix that acts on a single qubit. This can be used to create all the basic gate operations on the circuit. It is a simple tensor product of the given unitary on the target qubit and the identity for the rest of the qubits. For example: If the unitary $U$ is applied on the $2^{nd}$ qubit of a 3-qubit circuit, then the corresponding matrix operator will be $I ⊗ U ⊗ I$.\n",
    "\n",
    "The $CGate$ class is a little bit more complicated and performs a controlled-$U$ operation for a given unitary $U$. This class needs a $UGate$ object as an input in order to create a $CU$ operation. For example: If a unitary $U$ is to be applied on the target qubit 3 with the control qubit 1, for a 3 qubit circuit then the corresponsing matrix operation will be:$$\n",
    "CU_{3, 1} = I ⊗ I ⊗ |0><0| + U ⊗ I ⊗ |1><1|$$"
   ],
   "cell_type": "markdown",
   "metadata": {}
  },
  {
   "cell_type": "code",
   "execution_count": 4,
   "metadata": {},
   "outputs": [],
   "source": [
    "class Gates:\n",
    "    def __init__(self, n):\n",
    "        self.n = n\n",
    "        self.matrix_op = Identity\n",
    "        self.label = None\n",
    "        self.parametric = False\n",
    "\n",
    "    def get_operator(self):\n",
    "        return self.matrix_op \n",
    "\n",
    "class UGate(Gates):\n",
    "\n",
    "    def __init__(self,n, target, unitary):\n",
    "        super().__init__(n)\n",
    "\n",
    "        self.target = target\n",
    "        self.unitary = unitary\n",
    "        self.label = 'U'\n",
    "\n",
    "        result = np.array([[1.0]])\n",
    "\n",
    "        for i in range(self.n):\n",
    "            if i == target:\n",
    "                op = unitary\n",
    "            else:\n",
    "                op = Identity\n",
    "\n",
    "            result = np.kron(result, op)\n",
    "\n",
    "        self.matrix_op = result\n",
    "\n",
    "class CGate(Gates):\n",
    "    def __init__(self, n, controls, targetGate):\n",
    "        super().__init__(n)\n",
    "        self.label = 'Controlled ' + targetGate.label\n",
    "\n",
    "        L1 = []\n",
    "        L2 = []\n",
    "        for i in range(n):\n",
    "            if i in controls:\n",
    "                L1 += [P0]\n",
    "                L2 += [P1]\n",
    "            else:\n",
    "                L1 += [Identity]\n",
    "                L2 += [Identity]   \n",
    "\n",
    "        L2[targetGate.target] = targetGate.unitary\n",
    "            \n",
    "        \n",
    "        self.matrix_op = multikron(L1) + multikron(L2) #+ targetGate.get_operator()"
   ]
  },
  {
   "source": [
    "## Quantum Circuit\n",
    "\n",
    "In order to handle quantum circuits, we create a $Quantum\\_Circuit$ class which contains the statevector, methods for basic gates, and the circuit operation as a list in the sequential order. New gates can be added by extending the class and creating custom gates using the $UGate$ and the $CGate$ classes.\n",
    "\n",
    "The class also allows for the usage of $\\textbf{parametric gates}$ as mentioned in the bonus requirements which is handled using the $SymPy$ module. If a string is used as an input, the string is converted into a $SymPy$ symbol and the expression is stored in a symbolic way. The parameters can later be binded using the $bind_parameters$ method and passing the parameter values as a dictionary. This is evaulated using $SymPy's$ evalf() function and converted into a numpy array for later usage.\n",
    "\n",
    "The $measurement$ method performs multi-shot measurements using weighted probabilities generated from the square of the absolute value of the statevectors. Since it uses the $numpy$ weighted random function, it can perform high speed measurements for a large number of shots.\n",
    "\n",
    "### NOTE: The qubits are ordered from left to right. So the state |100> corresponds to the qubit 0 being in |1> state, and qubit 1 and qubit 2 in the |0> state. Also, since the statevector size grows exponentially ($2^N$) with the size of the circuit, large circuits can crash the program."
   ],
   "cell_type": "markdown",
   "metadata": {}
  },
  {
   "cell_type": "code",
   "execution_count": 5,
   "metadata": {},
   "outputs": [],
   "source": [
    "class Quantum_Circuit:\n",
    "\n",
    "    def __init__(self, n):\n",
    "        self.n = n\n",
    "        self.statevector = multikron(([q_0]*n))\n",
    "        self.circuit = []\n",
    "\n",
    "    def u3(self, theta, phi, lam, q1):\n",
    "        parametric = False\n",
    "        if isinstance(theta, str):\n",
    "            theta = Symbol(theta)\n",
    "            parametric = True\n",
    "        if isinstance(phi, str):\n",
    "            phi = Symbol(phi)\n",
    "            parametric = True\n",
    "        if isinstance(lam, str):\n",
    "            lam = Symbol(lam)\n",
    "            parametric = True\n",
    "\n",
    "        u = smp.Matrix(U3(theta, phi, lam))\n",
    "        operator = UGate(self.n, q1, u)\n",
    "        operator.parametric = parametric\n",
    "        self.qapply(operator)\n",
    "\n",
    "    def h(self, q1):\n",
    "        operator = UGate(self.n, q1, Hadamard)\n",
    "        self.qapply(operator)\n",
    "\n",
    "    def x(self, q1):\n",
    "        operator = UGate(self.n, q1, NOT)\n",
    "        self.qapply(operator)\n",
    "\n",
    "    def y(self, q1):\n",
    "        operator = UGate(self.n, q1, Y)\n",
    "        self.qapply(operator)\n",
    "\n",
    "    def z(self, q1):\n",
    "        operator = UGate(self.n, q1, Z)\n",
    "        self.qapply(operator)\n",
    "\n",
    "    def s(self, q1):\n",
    "        operator = UGate(self.n, q1, S)\n",
    "        self.qapply(operator)\n",
    "\n",
    "    def cx(self, q1, q2):\n",
    "        operatorX = UGate(self.n, q2, NOT)\n",
    "        operatorC = CGate(self.n, [q1], operatorX)\n",
    "        self.qapply(operatorC)        \n",
    "    \n",
    "    def cz(self, q1, q2):\n",
    "        operatorZ = UGate(self.n, q2, Z)\n",
    "        operatorC = CGate(self.n, [q1], operatorZ)\n",
    "        self.qapply(operatorC)\n",
    "\n",
    "    def qapply(self, operator):\n",
    "        self.circuit.append(operator)\n",
    "\n",
    "    def measurement(self, shots):\n",
    "        self.statevector = self.get_statevector()\n",
    "        \n",
    "        state_list = []\n",
    "        for i in range(len(self.statevector)):\n",
    "            state_list.append(int_to_bin(i, self.n))\n",
    "        \n",
    "        prob = np.squeeze(np.square(np.abs(self.statevector)))\n",
    "        outcomes = np.random.choice(state_list, shots, p = prob)\n",
    "\n",
    "        outstate, counts = np.unique(outcomes, return_counts=True)\n",
    "        result = dict(zip(outstate, counts))\n",
    "        return result\n",
    "\n",
    "    def get_statevector(self):\n",
    "        sv = np.array(self.statevector)\n",
    "        for operator in self.circuit:\n",
    "            op_matrix = operator.get_operator()\n",
    "            sv = np.dot(op_matrix, sv)\n",
    "        sv = np.squeeze(np.fromiter(sv, dtype=complex))\n",
    "        return sv\n",
    "\n",
    "    def bind_parameters(self, params_dict):\n",
    "        for operator in self.circuit:\n",
    "            if operator.parametric:\n",
    "                x = np.array(smp.Matrix(operator.get_operator()).evalf(subs=params_dict))\n",
    "                operator.matrix_op = x\n",
    "                operator.parametric = False\n",
    "        return self\n"
   ]
  },
  {
   "source": [
    "## Testing the program\n",
    "\n",
    "1. A simple 2-qubit circuit for creating the bell state is implemented. \n",
    "2. The parametric U3 gate is used for using a string as an input and later a value is passed into it"
   ],
   "cell_type": "markdown",
   "metadata": {}
  },
  {
   "cell_type": "code",
   "execution_count": 6,
   "metadata": {},
   "outputs": [
    {
     "output_type": "stream",
     "name": "stdout",
     "text": [
      "[(0.7071067811865475+0j), 0j, 0j, (0.7071067811865475+0j)]\n"
     ]
    },
    {
     "output_type": "execute_result",
     "data": {
      "text/plain": [
       "{'00': 50111, '11': 49889}"
      ]
     },
     "metadata": {},
     "execution_count": 6
    }
   ],
   "source": [
    "q = Quantum_Circuit(2)\n",
    "q.h(0)\n",
    "q.cx(0, 1)\n",
    "print(list(q.get_statevector()))\n",
    "q.measurement(100000)"
   ]
  },
  {
   "cell_type": "code",
   "execution_count": 7,
   "metadata": {},
   "outputs": [
    {
     "output_type": "stream",
     "name": "stdout",
     "text": [
      "[(0.7071067811865476+0j), 0j, (4.3297802811774664e-17+0.7071067811865475j), 0j]\n"
     ]
    },
    {
     "output_type": "execute_result",
     "data": {
      "text/plain": [
       "{'00': 49947, '10': 50053}"
      ]
     },
     "metadata": {},
     "execution_count": 7
    }
   ],
   "source": [
    "q = Quantum_Circuit(2)\n",
    "q.u3('theta', np.pi/2, np.pi/2, 0)\n",
    "q.bind_parameters({'theta': np.pi/2})\n",
    "print(list(q.get_statevector()))\n",
    "q.measurement(100000)"
   ]
  },
  {
   "source": [
    "## The $Quantum\\_Circuit$ class and the $UGate$ and $CGate$ classes have been generalized in order to add extended features to the program. "
   ],
   "cell_type": "markdown",
   "metadata": {}
  },
  {
   "cell_type": "code",
   "execution_count": null,
   "metadata": {},
   "outputs": [],
   "source": []
  }
 ],
 "metadata": {
  "language_info": {
   "codemirror_mode": {
    "name": "ipython",
    "version": 3
   },
   "file_extension": ".py",
   "mimetype": "text/x-python",
   "name": "python",
   "nbconvert_exporter": "python",
   "pygments_lexer": "ipython3",
   "version": "3.6.5-final"
  },
  "orig_nbformat": 2,
  "kernelspec": {
   "name": "python3",
   "display_name": "Python 3.6.5 64-bit",
   "metadata": {
    "interpreter": {
     "hash": "e7c37ba80a6e54a3d63188245ab5de6a3e0d381993bcb1990a7020536fc2299e"
    }
   }
  }
 },
 "nbformat": 4,
 "nbformat_minor": 2
}